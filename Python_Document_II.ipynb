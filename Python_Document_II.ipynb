{
 "cells": [
  {
   "cell_type": "markdown",
   "metadata": {},
   "source": [
    "# Functions, Scoping, Data Collections 1 & List Comprehensions"
   ]
  },
  {
   "cell_type": "markdown",
   "metadata": {},
   "source": [
    "## Tasks Today:\n",
    "\n",
    "<i>Monday Additions (or, and ... if statements)</i>\n",
    "\n",
    "1) String Manipulation <br>\n",
    " &nbsp;&nbsp;&nbsp;&nbsp; a) strip() <br>\n",
    " &nbsp;&nbsp;&nbsp;&nbsp; b) title() <br>\n",
    "2) Working With Lists <br>\n",
    " &nbsp;&nbsp;&nbsp;&nbsp; a) min() <br>\n",
    " &nbsp;&nbsp;&nbsp;&nbsp; b) max() <br>\n",
    " &nbsp;&nbsp;&nbsp;&nbsp; c) sum() <br>\n",
    " &nbsp;&nbsp;&nbsp;&nbsp; d) sort() <br>\n",
    " &nbsp;&nbsp;&nbsp;&nbsp; e) Copying a List <br>\n",
    " &nbsp;&nbsp;&nbsp;&nbsp; f) 'in' keyword <br>\n",
    " &nbsp;&nbsp;&nbsp;&nbsp; g) 'not in' keyword <br>\n",
    " &nbsp;&nbsp;&nbsp;&nbsp; i) Checking an Empty List <br>\n",
    " &nbsp;&nbsp;&nbsp;&nbsp; j) Removing Instances with a Loop <br>\n",
    "3) List Comprehensions <br>\n",
    "4) Tuples <br>\n",
    " &nbsp;&nbsp;&nbsp;&nbsp; a) sorted() <br>\n",
    "5) Functions <br>\n",
    " &nbsp;&nbsp;&nbsp;&nbsp; a) User-Defined vs. Built-In Functions <br>\n",
    " &nbsp;&nbsp;&nbsp;&nbsp; b) Accepting Parameters <br>\n",
    " &nbsp;&nbsp;&nbsp;&nbsp; c) Default Parameters <br>\n",
    " &nbsp;&nbsp;&nbsp;&nbsp; d) Making an Argument Optional <br>\n",
    " &nbsp;&nbsp;&nbsp;&nbsp; e) Keyword Arguments <br>\n",
    " &nbsp;&nbsp;&nbsp;&nbsp; f) Returning Values <br>\n",
    " &nbsp;&nbsp;&nbsp;&nbsp; g) *args <br>\n",
    " &nbsp;&nbsp;&nbsp;&nbsp; h) Docstring <br>\n",
    " &nbsp;&nbsp;&nbsp;&nbsp; i) Using a User Function in a Loop <br>\n",
    "6) Scope"
   ]
  },
  {
   "cell_type": "markdown",
   "metadata": {},
   "source": [
    "### String Manipulation"
   ]
  },
  {
   "cell_type": "markdown",
   "metadata": {},
   "source": [
    "##### .lstrip()"
   ]
  },
  {
   "cell_type": "code",
   "execution_count": 4,
   "metadata": {},
   "outputs": [
    {
     "name": "stdout",
     "output_type": "stream",
     "text": [
      "John Smith\n"
     ]
    }
   ],
   "source": [
    "# string.lstrip()\n",
    "\n",
    "name = \"      John Smith\"\n",
    "stripped_name = name.lstrip(\" \" \"h\")\n",
    "print(stripped_name)\n"
   ]
  },
  {
   "cell_type": "markdown",
   "metadata": {},
   "source": [
    "##### .rstrip()"
   ]
  },
  {
   "cell_type": "code",
   "execution_count": 3,
   "metadata": {},
   "outputs": [
    {
     "name": "stdout",
     "output_type": "stream",
     "text": [
      "Bob Ross\n"
     ]
    }
   ],
   "source": [
    "# string.rstrip()\n",
    "\n",
    "name = \"Bob Ross     th\"\n",
    "print(name.rstrip(\"  \" \"th\"))\n"
   ]
  },
  {
   "cell_type": "markdown",
   "metadata": {},
   "source": [
    "##### .strip()"
   ]
  },
  {
   "cell_type": "code",
   "execution_count": 6,
   "metadata": {},
   "outputs": [
    {
     "name": "stdout",
     "output_type": "stream",
     "text": [
      "John Smith\n"
     ]
    }
   ],
   "source": [
    "# string.strip()\n",
    "\n",
    "name = \"     John Smith   \"\n",
    "print(name.strip())"
   ]
  },
  {
   "cell_type": "markdown",
   "metadata": {},
   "source": [
    "##### .title()"
   ]
  },
  {
   "cell_type": "code",
   "execution_count": 7,
   "metadata": {},
   "outputs": [
    {
     "name": "stdout",
     "output_type": "stream",
     "text": [
      "Joe Biden\n"
     ]
    }
   ],
   "source": [
    "# string.title()\n",
    "\n",
    "President = \"joe biden\"\n",
    "print(President.title())"
   ]
  },
  {
   "cell_type": "markdown",
   "metadata": {},
   "source": [
    "### String Exercise <br>\n",
    "<p>Strip all white space and capitalize every name in the list given</p>"
   ]
  },
  {
   "cell_type": "code",
   "execution_count": 33,
   "metadata": {},
   "outputs": [
    {
     "name": "stdout",
     "output_type": "stream",
     "text": [
      "CONNOR\n",
      "MAX\n",
      "EVAN\n",
      "JORDAN\n"
     ]
    }
   ],
   "source": [
    "names = ['    coNNor', 'max', ' EVan ', 'JORDAN']\n",
    "# HINT: You will need to use a for loop for iteration\n",
    "\n",
    "for n in names:\n",
    "    print(n.strip().upper())\n"
   ]
  },
  {
   "cell_type": "markdown",
   "metadata": {},
   "source": [
    "### Working With Lists"
   ]
  },
  {
   "cell_type": "markdown",
   "metadata": {},
   "source": [
    "##### min()"
   ]
  },
  {
   "cell_type": "code",
   "execution_count": 35,
   "metadata": {},
   "outputs": [
    {
     "name": "stdout",
     "output_type": "stream",
     "text": [
      "2\n"
     ]
    }
   ],
   "source": [
    "# min(list)\n",
    "numbers = [4, 9, 30, 97, 2]\n",
    "print(min(numbers))"
   ]
  },
  {
   "cell_type": "markdown",
   "metadata": {},
   "source": [
    "##### max()"
   ]
  },
  {
   "cell_type": "code",
   "execution_count": 37,
   "metadata": {},
   "outputs": [
    {
     "name": "stdout",
     "output_type": "stream",
     "text": [
      "97\n"
     ]
    }
   ],
   "source": [
    "# max(list)\n",
    "numbers = [4, 9, 30, 97, 2]\n",
    "print(max(numbers))"
   ]
  },
  {
   "cell_type": "markdown",
   "metadata": {},
   "source": [
    "##### sum()"
   ]
  },
  {
   "cell_type": "code",
   "execution_count": 36,
   "metadata": {},
   "outputs": [
    {
     "name": "stdout",
     "output_type": "stream",
     "text": [
      "142\n"
     ]
    }
   ],
   "source": [
    "# sum(list)\n",
    "numbers = [4, 9, 30, 97, 2]\n",
    "print(sum(numbers))"
   ]
  },
  {
   "cell_type": "markdown",
   "metadata": {},
   "source": [
    "##### sorted()"
   ]
  },
  {
   "cell_type": "code",
   "execution_count": 38,
   "metadata": {},
   "outputs": [
    {
     "name": "stdout",
     "output_type": "stream",
     "text": [
      "[4, 9, 30, 97, 2]\n",
      "[2, 4, 9, 30, 97]\n"
     ]
    }
   ],
   "source": [
    "# sorted(list)\n",
    "print(numbers)\n",
    "\n",
    "sorted_numbers = sorted(numbers)\n",
    "print(sorted_numbers)\n"
   ]
  },
  {
   "cell_type": "markdown",
   "metadata": {},
   "source": [
    "##### .sort() <br>\n",
    "<p>Difference between sort and sorted, is that sorted doesn't change original list it returns a copy, while .sort changes the original list</p>"
   ]
  },
  {
   "cell_type": "code",
   "execution_count": 39,
   "metadata": {},
   "outputs": [
    {
     "name": "stdout",
     "output_type": "stream",
     "text": [
      "before sort: (numbers)\n",
      "None\n",
      "[2, 4, 9, 30, 97]\n"
     ]
    }
   ],
   "source": [
    "# list.sort()\n",
    "print(f'before sort: (numbers)')\n",
    "print(numbers.sort())\n",
    "print(numbers)\n",
    "\n",
    "# use sorted when you don't want to alter original list, use .sort() when you want to alter original list"
   ]
  },
  {
   "cell_type": "markdown",
   "metadata": {},
   "source": [
    "##### Copying a List"
   ]
  },
  {
   "cell_type": "code",
   "execution_count": 40,
   "metadata": {},
   "outputs": [
    {
     "name": "stdout",
     "output_type": "stream",
     "text": [
      "4\n"
     ]
    }
   ],
   "source": [
    "# [:] copies a list, doesn't alter original\n",
    "\n",
    "list_1 = numbers[1]\n",
    "print(list_1)\n"
   ]
  },
  {
   "cell_type": "markdown",
   "metadata": {},
   "source": [
    "##### 'in' keyword"
   ]
  },
  {
   "cell_type": "code",
   "execution_count": 48,
   "metadata": {},
   "outputs": [
    {
     "name": "stdout",
     "output_type": "stream",
     "text": [
      "A Person\n"
     ]
    }
   ],
   "source": [
    "l_teachers = [\"Billy\", \"Lily\", \"Mike\", \"Kyle\", \"Jeff\"]\n",
    "\n",
    "if \"Jeff\" in l_teachers:\n",
    "   print(\"A Person\")\n",
    "else:\n",
    "        print(\"Not A Person\")"
   ]
  },
  {
   "cell_type": "markdown",
   "metadata": {},
   "source": [
    "##### 'not in' keyword"
   ]
  },
  {
   "cell_type": "code",
   "execution_count": 52,
   "metadata": {},
   "outputs": [
    {
     "name": "stdout",
     "output_type": "stream",
     "text": [
      "Not Found\n",
      "Found\n",
      "Not Found\n",
      "Not Found\n",
      "Not Found\n"
     ]
    }
   ],
   "source": [
    "for name in l_teachers:\n",
    "    if \"L\" in name[0]:\n",
    "        print(\"Found\")\n",
    "    else:\n",
    "            print(\"Not Found\")"
   ]
  },
  {
   "cell_type": "markdown",
   "metadata": {},
   "source": [
    "##### Checking an Empty List"
   ]
  },
  {
   "cell_type": "code",
   "execution_count": 53,
   "metadata": {},
   "outputs": [
    {
     "name": "stdout",
     "output_type": "stream",
     "text": [
      "Empty\n"
     ]
    }
   ],
   "source": [
    "# if l_1: or if l_1 = []\n",
    "\n",
    "list_2 = []\n",
    "\n",
    "if list_2 == []:\n",
    "    print(\"Empty\")"
   ]
  },
  {
   "cell_type": "markdown",
   "metadata": {},
   "source": [
    "##### Removing Instances with a Loop"
   ]
  },
  {
   "cell_type": "code",
   "execution_count": 60,
   "metadata": {},
   "outputs": [
    {
     "name": "stdout",
     "output_type": "stream",
     "text": [
      "['Joshua', 'Sky', 'Dilly']\n"
     ]
    }
   ],
   "source": [
    "# while, remove\n",
    "\n",
    "names = [\"Joshua\", \"Sam\", \"Sky\", \"Dilly\",]\n",
    "\n",
    "while \"Sam\" in names:\n",
    "    names.remove(\"Sam\")\n",
    "    print(names)"
   ]
  },
  {
   "cell_type": "markdown",
   "metadata": {},
   "source": [
    "### List Exercise <br>\n",
    "<p>Remove all duplicates<br><b>Extra: Create a program that will remove any duplicates from a given list</b></p>"
   ]
  },
  {
   "cell_type": "code",
   "execution_count": 12,
   "metadata": {},
   "outputs": [
    {
     "name": "stdout",
     "output_type": "stream",
     "text": [
      "{2, 'connor', 3, 4, 'max', 'evan', 'bob', 'kevin'}\n"
     ]
    }
   ],
   "source": [
    "names = ['connor', 'connor', 'bob', 'connor', 'evan', 'max', 'evan', 2, 2, 2, 3, 3, 4, 'bob', 'kevin']\n",
    "# Hint 1: You will need an append\n",
    "# Hint 2: Using an empty list will make life easier\n",
    "\n",
    "dup_items = set()\n",
    "uniq_items = []\n",
    "\n",
    "for a in names:\n",
    "    if a not in dup_items:\n",
    "        uniq_items.append(a)\n",
    "        dup_items.add(a)\n",
    "\n",
    "print(dup_items) \n"
   ]
  },
  {
   "cell_type": "markdown",
   "metadata": {},
   "source": [
    "### List Comprehensions <br>\n",
    "<p>Creating a quickly generated list to work with<br>*result*  = [*transform*    *iteration*         *filter*     ]</p>"
   ]
  },
  {
   "cell_type": "raw",
   "metadata": {},
   "source": [
    "##### In a list comprehension we have a few pieces:\n",
    "1. The first is the counter/ variable - IN this the variable is x\n",
    "2. then we have a transform for the variable\n",
    "3. The finale part of a list comp is called the condition\n",
    "\n",
    "```python\n",
    "    [transform, variable, condition]\n",
    "```"
   ]
  },
  {
   "cell_type": "code",
   "execution_count": 5,
   "metadata": {},
   "outputs": [
    {
     "name": "stdout",
     "output_type": "stream",
     "text": [
      "[0, 1, 2, 3, 4, 5, 6, 7, 8, 9, 10, 11, 12, 13, 14, 15, 16, 17, 18, 19, 20, 21, 22, 23, 24, 25, 26, 27, 28, 29, 30, 31, 32, 33, 34, 35, 36, 37, 38, 39, 40, 41, 42, 43, 44, 45, 46, 47, 48, 49, 50, 51, 52, 53, 54, 55, 56, 57, 58, 59, 60, 61, 62, 63, 64, 65, 66, 67, 68, 69, 70, 71, 72, 73, 74, 75, 76, 77, 78, 79, 80, 81, 82, 83, 84, 85, 86, 87, 88, 89, 90, 91, 92, 93, 94, 95, 96, 97, 98, 99]\n",
      "\n",
      "\n",
      "[0, 1, 4, 9, 16, 25, 36, 49, 64, 81, 100, 121, 144, 169, 196, 225, 256, 289, 324, 361, 400, 441, 484, 529, 576, 625, 676, 729, 784, 841, 900, 961, 1024, 1089, 1156, 1225, 1296, 1369, 1444, 1521, 1600, 1681, 1764, 1849, 1936, 2025, 2116, 2209, 2304, 2401, 2500, 2601, 2704, 2809, 2916, 3025, 3136, 3249, 3364, 3481, 3600, 3721, 3844, 3969, 4096, 4225, 4356, 4489, 4624, 4761, 4900, 5041, 5184, 5329, 5476, 5625, 5776, 5929, 6084, 6241, 6400, 6561, 6724, 6889, 7056, 7225, 7396, 7569, 7744, 7921, 8100, 8281, 8464, 8649, 8836, 9025, 9216, 9409, 9604, 9801]\n"
     ]
    }
   ],
   "source": [
    "# number comprehension\n",
    "\n",
    "# With a regular for loop\n",
    "\n",
    "nums = []\n",
    "\n",
    "for i in range(100):\n",
    "    nums.append(i)\n",
    "print(nums)\n",
    "\n",
    "#[transform, variable, condition\n",
    "\n",
    "\n",
    "print('\\n')\n",
    "\n",
    "nums_comp = [i**2 for i in range(100)]\n",
    "\n",
    "print(nums_comp)\n",
    "\n",
    "\n"
   ]
  },
  {
   "cell_type": "markdown",
   "metadata": {},
   "source": [
    "There are a few benefits to using List comprehensions. The most obvious would be that we now have shorter code to work with instead of using 3+ lines of code in the for loop variant.\n",
    "\n",
    "Another is an added benefit to memory usage. Since the list's memory is allocated first before adding elements to it, we don't have to resize the list once we add elements to it.\n",
    "\n",
    "Lastly, list comprehensions are considered the \"pythonic\" way to write code by the PEP8 standards (Python Style Guide)"
   ]
  },
  {
   "cell_type": "code",
   "execution_count": 9,
   "metadata": {},
   "outputs": [
    {
     "name": "stdout",
     "output_type": "stream",
     "text": [
      "[0, 1, 4, 9, 16, 25, 36, 49, 64, 81]\n",
      "\n",
      "\n",
      "[0, 1, 4, 9, 16, 25, 36, 49, 64, 81]\n"
     ]
    }
   ],
   "source": [
    "# square number comprehension\n",
    "\n",
    "print([x**2 for x in range(10)])\n",
    "\n",
    "print('\\n')\n",
    "\n",
    "squares_reg = []\n",
    "for x in range(10):\n",
    "    squares_reg.append(x**2)\n",
    "print(squares_reg)"
   ]
  },
  {
   "cell_type": "code",
   "execution_count": 17,
   "metadata": {},
   "outputs": [
    {
     "name": "stdout",
     "output_type": "stream",
     "text": [
      "['B', 'M', 'C', 'B']\n",
      "['B', 'M', 'C', 'B']\n"
     ]
    }
   ],
   "source": [
    "# string comprehension\n",
    "\n",
    "names = ['Billy', 'Molly', 'Conner', 'Bobby']\n",
    "\n",
    "first_char_comp = [name[0] for name in names]\n",
    "print(first_char_comp)\n",
    "\n",
    "\n",
    "first_char = []\n",
    "\n",
    "for name in names:\n",
    "    first_char.append(name[0])\n",
    "print(first_char)\n"
   ]
  },
  {
   "cell_type": "code",
   "execution_count": 19,
   "metadata": {},
   "outputs": [
    {
     "name": "stdout",
     "output_type": "stream",
     "text": [
      "['Conner']\n",
      "\n",
      "\n",
      "['Conner']\n"
     ]
    }
   ],
   "source": [
    "c_names = [first_name for first_name in names if first_name[0] == 'C']\n",
    "\n",
    "print(c_names)\n",
    "\n",
    "print('\\n')\n",
    "\n",
    "c_names_reg = []\n",
    "\n",
    "for first_name in names:\n",
    "    if first_name[0] == 'C':\n",
    "        c_names_reg.append(first_name)\n",
    "print(c_names_reg)"
   ]
  },
  {
   "cell_type": "markdown",
   "metadata": {},
   "source": [
    "### Tuples <br>\n",
    "<p><b>Defined as an immutable list</b></p><br>Seperated by commas using parenthesis"
   ]
  },
  {
   "cell_type": "code",
   "execution_count": 10,
   "metadata": {},
   "outputs": [
    {
     "name": "stdout",
     "output_type": "stream",
     "text": [
      "1\n",
      "3\n",
      "1\n",
      "2\n",
      "3\n"
     ]
    },
    {
     "ename": "AttributeError",
     "evalue": "'tuple' object has no attribute 'append'",
     "output_type": "error",
     "traceback": [
      "\u001b[1;31m---------------------------------------------------------------------------\u001b[0m",
      "\u001b[1;31mAttributeError\u001b[0m                            Traceback (most recent call last)",
      "Cell \u001b[1;32mIn[10], line 21\u001b[0m\n\u001b[0;32m     18\u001b[0m \u001b[38;5;66;03m# Looping Over A Tuple With An Index Using Range And Len\u001b[39;00m\n\u001b[0;32m     20\u001b[0m \u001b[38;5;28;01mfor\u001b[39;00m number \u001b[38;5;129;01min\u001b[39;00m \u001b[38;5;28mrange\u001b[39m(\u001b[38;5;28mlen\u001b[39m(tup_1)):\n\u001b[1;32m---> 21\u001b[0m     \u001b[43mtup_1\u001b[49m\u001b[38;5;241;43m.\u001b[39;49m\u001b[43mappend\u001b[49m(number)\n\u001b[0;32m     22\u001b[0m     \u001b[38;5;28mprint\u001b[39m(popped_num)\n",
      "\u001b[1;31mAttributeError\u001b[0m: 'tuple' object has no attribute 'append'"
     ]
    }
   ],
   "source": [
    "tup_1 = 1, 2, 3 # First Way Of Creating A Tuple\n",
    "\n",
    "tup_2 = (1,2,3) # Other Way Of Creating A Tuple\n",
    "\n",
    "\n",
    "#print(type(tup_1))\n",
    "#print(type(tup_2))\n",
    "\n",
    "print(tup_1[0])\n",
    "\n",
    "print(len(tup_1))\n",
    "\n",
    "# Looping Over Tuples\n",
    "\n",
    "for number in tup_1:\n",
    "    print(number)\n",
    "    \n",
    "# Looping Over A Tuple With An Index Using Range And Len\n",
    "\n",
    "for number in range(len(tup_1)):\n",
    "    tup_1.append(number)\n",
    "    print(popped_num)"
   ]
  },
  {
   "cell_type": "markdown",
   "metadata": {},
   "source": [
    "##### sorted()"
   ]
  },
  {
   "cell_type": "code",
   "execution_count": 17,
   "metadata": {},
   "outputs": [
    {
     "name": "stdout",
     "output_type": "stream",
     "text": [
      "[1, 3, 5, 9, 20, 45]\n",
      "(1, 3, 3, 4, 5, 9, 20, 33, 45, 66, 77)\n",
      "<class 'list'>\n",
      "(20, 5, 1, 3, 9, 45)\n"
     ]
    }
   ],
   "source": [
    "tup_3 = (20, 5, 1, 3, 9, 45)\n",
    "\n",
    "sorted_tup = sorted(tup_3)\n",
    "print(sorted_tup)\n",
    "\n",
    "random_list = [3, 4, 66, 77, 33]\n",
    "combine_list = sorted(sorted_tup + random_list)\n",
    "\n",
    "new_tup = tuple(combine_list)\n",
    "\n",
    "print(new_tup)\n",
    "\n",
    "print(type(sorted_tup))\n",
    "\n",
    "print(tup_3)"
   ]
  },
  {
   "cell_type": "markdown",
   "metadata": {},
   "source": [
    "##### Adding values to a Tuple"
   ]
  },
  {
   "cell_type": "code",
   "execution_count": 20,
   "metadata": {},
   "outputs": [
    {
     "name": "stdout",
     "output_type": "stream",
     "text": [
      "(1, 2, 3)\n",
      "(1, 2, 3, 5)\n"
     ]
    }
   ],
   "source": [
    "print(tup_1) \n",
    "\n",
    "tup_1 = tup_1 + (5,)\n",
    "\n",
    "print(tup_1)"
   ]
  },
  {
   "cell_type": "markdown",
   "metadata": {},
   "source": [
    "## Functions"
   ]
  },
  {
   "cell_type": "markdown",
   "metadata": {},
   "source": [
    "##### User-Defined vs. Built-In Functions"
   ]
  },
  {
   "cell_type": "code",
   "execution_count": 22,
   "metadata": {},
   "outputs": [
    {
     "name": "stdout",
     "output_type": "stream",
     "text": [
      "Hello World\n"
     ]
    }
   ],
   "source": [
    "# User defined!\n",
    "\n",
    "def SayHello ():\n",
    "    return 'Hello World'\n",
    "\n",
    "SayHello()\n",
    "print(SayHello ())"
   ]
  },
  {
   "cell_type": "markdown",
   "metadata": {},
   "source": [
    "##### Accepting Parameters"
   ]
  },
  {
   "cell_type": "code",
   "execution_count": 19,
   "metadata": {},
   "outputs": [
    {
     "name": "stdout",
     "output_type": "stream",
     "text": [
      "What is your first name? Ashley\n",
      "Hello, Ashey Hall\n"
     ]
    }
   ],
   "source": [
    "# Arguments Or Parameters\n",
    "# Order Matters\n",
    "# Variables Can Be Any Type Of Objects\n",
    "\n",
    "\n",
    "def printFullName(first_name, last_name):\n",
    "    return f'Hello, {first_name} {last_name}'\n",
    "\n",
    "a_name = input('What is your first name? ')\n",
    "\n",
    "print(printFullName('Ashey','Hall'))"
   ]
  },
  {
   "cell_type": "markdown",
   "metadata": {},
   "source": [
    "##### Default Parameters"
   ]
  },
  {
   "cell_type": "code",
   "execution_count": 45,
   "metadata": {},
   "outputs": [
    {
     "name": "stdout",
     "output_type": "stream",
     "text": [
      "The name is Bock .... Joshua Bock!\n"
     ]
    }
   ],
   "source": [
    "# Defult Parameters Have To Be Declared AFTER Non-Defult Parameters Each Time\n",
    "\n",
    "def printAgentName(first_name, last_name = 'Bock'):\n",
    "    return f'The name is {last_name} .... {first_name} {last_name}!'\n",
    "print(printAgentName('Joshua'))"
   ]
  },
  {
   "cell_type": "markdown",
   "metadata": {},
   "source": [
    "##### Making an Argument Optional"
   ]
  },
  {
   "cell_type": "code",
   "execution_count": 10,
   "metadata": {},
   "outputs": [
    {
     "data": {
      "text/plain": [
       "'Hello Mr  Ed'"
      ]
     },
     "execution_count": 10,
     "metadata": {},
     "output_type": "execute_result"
    }
   ],
   "source": [
    "def printHorseName(first, middle = '', last = 'Ed'):\n",
    "    return f'Hello {first} {middle} {last}'\n",
    "\n",
    "printHorseName('Mr')"
   ]
  },
  {
   "cell_type": "markdown",
   "metadata": {},
   "source": [
    "##### Keyword Arguments"
   ]
  },
  {
   "cell_type": "code",
   "execution_count": 18,
   "metadata": {},
   "outputs": [
    {
     "data": {
      "text/plain": [
       "'The heros name is Superman, and his superpower is flying'"
      ]
     },
     "execution_count": 18,
     "metadata": {},
     "output_type": "execute_result"
    }
   ],
   "source": [
    "def printSuperHero(name, power = 'flying'):\n",
    "    return f'The heros name is {name}, and his superpower is {power}'\n",
    "\n",
    "printSuperHero('Superman')"
   ]
  },
  {
   "cell_type": "markdown",
   "metadata": {},
   "source": [
    "# Creating a start, stop, step function"
   ]
  },
  {
   "cell_type": "code",
   "execution_count": 27,
   "metadata": {},
   "outputs": [
    {
     "name": "stdout",
     "output_type": "stream",
     "text": [
      "0\n",
      "1\n",
      "2\n",
      "3\n",
      "4\n",
      "5\n",
      "6\n",
      "7\n",
      "8\n",
      "9\n",
      "10\n",
      "11\n",
      "12\n",
      "13\n",
      "14\n",
      "15\n",
      "16\n",
      "17\n",
      "18\n",
      "19\n"
     ]
    }
   ],
   "source": [
    "def my_range(stop, start=0, step=1):\n",
    "    for i in range(start,stop,step):\n",
    "        print(i)\n",
    "        \n",
    "my_range(20)"
   ]
  },
  {
   "cell_type": "markdown",
   "metadata": {},
   "source": [
    "##### Returning Values"
   ]
  },
  {
   "cell_type": "code",
   "execution_count": 28,
   "metadata": {},
   "outputs": [
    {
     "data": {
      "text/plain": [
       "7"
      ]
     },
     "execution_count": 28,
     "metadata": {},
     "output_type": "execute_result"
    }
   ],
   "source": [
    "def addNums (num1, num2):\n",
    "    return num1 + num2\n",
    "\n",
    "addNums(5,2)"
   ]
  },
  {
   "cell_type": "markdown",
   "metadata": {},
   "source": [
    "##### *args"
   ]
  },
  {
   "cell_type": "code",
   "execution_count": 33,
   "metadata": {},
   "outputs": [
    {
     "name": "stdout",
     "output_type": "stream",
     "text": [
      "36\n",
      "('Dragon', 'Vanilla', 2, 3)\n",
      "{'testing': 'Ashley'}\n",
      "('Dragon', 'Vanilla', 2, 3)\n",
      "('Dragon', 'Vanilla', 2, 3)\n",
      "('Dragon', 'Vanilla', 2, 3)\n",
      "('Dragon', 'Vanilla', 2, 3)\n",
      "testing\n"
     ]
    }
   ],
   "source": [
    "# Args stand for arguments, and take ANY number of arguments as parameters\n",
    "# Must be last if multiple parameters are present\n",
    "\n",
    "def printArgs(num1, *args, **kwargs):\n",
    "    print(num1)\n",
    "    print(args)\n",
    "    print(kwargs)\n",
    "    \n",
    "    for arg in args:\n",
    "        print(args)\n",
    "        \n",
    "    for kwargs in kwargs:\n",
    "        print(kwargs)\n",
    "    \n",
    "printArgs(36, 'Dragon', 'Vanilla', 2, 3, testing=\"Ashley\")"
   ]
  },
  {
   "cell_type": "markdown",
   "metadata": {},
   "source": [
    "##### Docstring"
   ]
  },
  {
   "cell_type": "code",
   "execution_count": 38,
   "metadata": {},
   "outputs": [
    {
     "name": "stdout",
     "output_type": "stream",
     "text": [
      "Molly\n",
      "Lily\n",
      "Sam\n",
      "Drake\n",
      "Help on function printNames in module __main__:\n",
      "\n",
      "printNames(list_1)\n",
      "    printNames(list_1)\n",
      "    Function requires a list to be passed as a parameter\n",
      "    and will print the content of the list. Expecting a list\n",
      "    of names(strings) to be passed.\n",
      "\n"
     ]
    }
   ],
   "source": [
    "def printNames(list_1):\n",
    "    '''\n",
    "      printNames(list_1)\n",
    "      Function requires a list to be passed as a parameter\n",
    "      and will print the content of the list. Expecting a list\n",
    "      of names(strings) to be passed.\n",
    "    \n",
    "    '''\n",
    "    for name in list_1:\n",
    "        print(name)\n",
    "        \n",
    "printNames(['Molly', 'Lily', 'Sam', 'Drake'])\n",
    "help(printNames)"
   ]
  },
  {
   "cell_type": "markdown",
   "metadata": {},
   "source": [
    "##### Using a User Function in a Loop"
   ]
  },
  {
   "cell_type": "code",
   "execution_count": 44,
   "metadata": {},
   "outputs": [
    {
     "name": "stdout",
     "output_type": "stream",
     "text": [
      "Are you ready to quit?? yes\n",
      "What do you want to do? nothing\n",
      "nothing\n",
      "Ready yet? yes\n"
     ]
    }
   ],
   "source": [
    "def printInput(answer):\n",
    "    print(answer)\n",
    "    \n",
    "response = input('Are you ready to quit?? ')\n",
    "\n",
    "while True:\n",
    "    ask = input('What do you want to do? ')\n",
    "    printInput(ask)\n",
    "    \n",
    "    response = input('Ready yet? ')\n",
    "    if response.lower() == 'yes':\n",
    "        break"
   ]
  },
  {
   "cell_type": "markdown",
   "metadata": {},
   "source": [
    "## Function Exercise <br>\n",
    "<p>Write a function that loops through a list of first_names and a list of last_names, combines the two and return a list of full_names</p>"
   ]
  },
  {
   "cell_type": "code",
   "execution_count": 88,
   "metadata": {},
   "outputs": [
    {
     "name": "stdout",
     "output_type": "stream",
     "text": [
      "John Smith\n",
      "Evan Smith\n",
      "Jordan Williams\n",
      "Max Bell\n"
     ]
    }
   ],
   "source": [
    "first_name = ['John', 'Evan', 'Jordan', 'Max']\n",
    "last_name = ['Smith', 'Smith', 'Williams', 'Bell']\n",
    "\n",
    "# Output: ['John Smith', 'Evan Smith', 'Jordan Williams', 'Max Bell']\n",
    "\n",
    "\n",
    "for name, surname in zip(first_name, last_name):\n",
    "   print(name, surname)\n",
    "\n"
   ]
  },
  {
   "cell_type": "markdown",
   "metadata": {},
   "source": [
    "## Scope <br>\n",
    "<p>Scope refers to the ability to access variables, different types of scope include:<br>a) Global<br>b) Function (local)<br>c) Class (local)</p>"
   ]
  },
  {
   "cell_type": "code",
   "execution_count": 38,
   "metadata": {},
   "outputs": [
    {
     "name": "stdout",
     "output_type": "stream",
     "text": [
      "7\n",
      "<function myFunc at 0x00000163CBD84EE0>\n"
     ]
    }
   ],
   "source": [
    "number = 3 # Global variable: Accessible anywhere in my code now\n",
    "\n",
    "def myFunc():\n",
    "    num_3 = 6 # Local function variable\n",
    "    number += 4\n",
    "    return number\n",
    "print(number + 4)\n",
    "print(myFunc)"
   ]
  },
  {
   "cell_type": "markdown",
   "metadata": {},
   "source": [
    "# Exercises"
   ]
  },
  {
   "cell_type": "markdown",
   "metadata": {},
   "source": [
    "## Exercise 1 <br>\n",
    "<p>Given a list as a parameter,write a function that returns a list of numbers that are less than ten</b></i></p><br>\n",
    "<p> For example: Say your input parameter to the function is [1,11,14,5,8,9]...Your output should [1,5,8,9]</p>"
   ]
  },
  {
   "cell_type": "code",
   "execution_count": 83,
   "metadata": {},
   "outputs": [
    {
     "name": "stdout",
     "output_type": "stream",
     "text": [
      "[1, 5, 8, 9]\n"
     ]
    }
   ],
   "source": [
    " \n",
    "L = [1,11,14,5,8,9]\n",
    " \n",
    "del L[0:0];del L[1:3]\n",
    "\n",
    "\n",
    "print(L)\n"
   ]
  },
  {
   "cell_type": "markdown",
   "metadata": {},
   "source": [
    "## Exercise 2 <br>\n",
    "<p>Write a function that takes in two lists and returns the two lists merged together and sorted<br>\n",
    "<b><i>Hint: You can use the .sort() method</i></b></p>"
   ]
  },
  {
   "cell_type": "code",
   "execution_count": 41,
   "metadata": {},
   "outputs": [
    {
     "name": "stdout",
     "output_type": "stream",
     "text": [
      "[2, 3, 4, 4, 5, 5, 6, 7, 7, 8, 10, 67, 78]\n"
     ]
    }
   ],
   "source": [
    "s = [4,2,7,78,5,6]\n",
    "b = [3,4,5,67,7,8,10]\n",
    "\n",
    "t = s + b\n",
    "\n",
    "t.sort()\n",
    "\n",
    "print(t)\n"
   ]
  },
  {
   "cell_type": "code",
   "execution_count": null,
   "metadata": {},
   "outputs": [],
   "source": []
  },
  {
   "cell_type": "code",
   "execution_count": null,
   "metadata": {},
   "outputs": [],
   "source": []
  }
 ],
 "metadata": {
  "kernelspec": {
   "display_name": "Python 3 (ipykernel)",
   "language": "python",
   "name": "python3"
  },
  "language_info": {
   "codemirror_mode": {
    "name": "ipython",
    "version": 3
   },
   "file_extension": ".py",
   "mimetype": "text/x-python",
   "name": "python",
   "nbconvert_exporter": "python",
   "pygments_lexer": "ipython3",
   "version": "3.10.9"
  }
 },
 "nbformat": 4,
 "nbformat_minor": 2
}
